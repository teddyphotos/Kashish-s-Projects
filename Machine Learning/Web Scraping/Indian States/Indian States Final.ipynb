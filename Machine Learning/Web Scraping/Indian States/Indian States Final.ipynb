{
 "cells": [
  {
   "cell_type": "code",
   "execution_count": null,
   "metadata": {},
   "outputs": [],
   "source": [
    "pip install BeautifulSoup4"
   ]
  },
  {
   "cell_type": "code",
   "execution_count": null,
   "metadata": {},
   "outputs": [],
   "source": [
    "from bs4 import BeautifulSoup\n",
    "import urllib.request\n",
    "import csv"
   ]
  },
  {
   "cell_type": "code",
   "execution_count": null,
   "metadata": {},
   "outputs": [],
   "source": [
    "url = 'https://www.mapsofindia.com/states/'\n",
    "page = urllib.request.urlopen(url)\n",
    "soup = BeautifulSoup(page, 'html.parser')"
   ]
  },
  {
   "cell_type": "code",
   "execution_count": null,
   "metadata": {},
   "outputs": [],
   "source": [
    "print(soup)"
   ]
  },
  {
   "cell_type": "code",
   "execution_count": null,
   "metadata": {},
   "outputs": [],
   "source": [
    "table = soup.find('table', attrs={'class':'tableizer-table'})"
   ]
  },
  {
   "cell_type": "code",
   "execution_count": null,
   "metadata": {},
   "outputs": [],
   "source": [
    "print(table)"
   ]
  },
  {
   "cell_type": "code",
   "execution_count": null,
   "metadata": {},
   "outputs": [],
   "source": [
    "headings = table.find('tr', attrs={'class':'tableizer-firstrow'})\n",
    "headingList = headings.find_all('th')\n",
    "#print(headingList)"
   ]
  },
  {
   "cell_type": "code",
   "execution_count": null,
   "metadata": {},
   "outputs": [],
   "source": [
    "title=[]\n",
    "for t in headingList:\n",
    "    title.append(t.getText())\n",
    "print(title)"
   ]
  },
  {
   "cell_type": "code",
   "execution_count": null,
   "metadata": {},
   "outputs": [],
   "source": [
    "import pandas as pd\n",
    "dataset = pd.DataFrame()"
   ]
  },
  {
   "cell_type": "code",
   "execution_count": null,
   "metadata": {},
   "outputs": [],
   "source": [
    "rows = table.find_all('tr')\n",
    "i = 0\n",
    "for row in rows:\n",
    "    if i == 0:\n",
    "        i += 1\n",
    "    else:       \n",
    "        info = row.find_all('td')\n",
    "        if(len(info)!=12):\n",
    "            print(\"Outlier\")\n",
    "        else:\n",
    "            list = []\n",
    "            for j in range(12):\n",
    "                #print(info[j].getText())\n",
    "                list.append(info[j].getText()) \n",
    "                #plist = pd.Series(list)\n",
    "                #print(plist)\n",
    "            #print(list)\n",
    "            plist = pd.Series(list)\n",
    "            #print(plist)\n",
    "            dataset = dataset.append(plist, ignore_index=True)"
   ]
  },
  {
   "cell_type": "code",
   "execution_count": null,
   "metadata": {},
   "outputs": [],
   "source": [
    "dataset.columns=title"
   ]
  },
  {
   "cell_type": "code",
   "execution_count": 33,
   "metadata": {},
   "outputs": [
    {
     "data": {
      "text/html": [
       "<div>\n",
       "<style scoped>\n",
       "    .dataframe tbody tr th:only-of-type {\n",
       "        vertical-align: middle;\n",
       "    }\n",
       "\n",
       "    .dataframe tbody tr th {\n",
       "        vertical-align: top;\n",
       "    }\n",
       "\n",
       "    .dataframe thead th {\n",
       "        text-align: right;\n",
       "    }\n",
       "</style>\n",
       "<table border=\"1\" class=\"dataframe\">\n",
       "  <thead>\n",
       "    <tr style=\"text-align: right;\">\n",
       "      <th></th>\n",
       "      <th>State</th>\n",
       "      <th>Capital</th>\n",
       "      <th>Area</th>\n",
       "      <th>Population</th>\n",
       "      <th>Official Languages</th>\n",
       "      <th>LargestCities</th>\n",
       "      <th>Districts/Admin divisions</th>\n",
       "      <th>Population Density</th>\n",
       "      <th>Literacy Rate%</th>\n",
       "      <th>Urban Pop.%</th>\n",
       "      <th>Sex Ratio</th>\n",
       "      <th>Estd Year</th>\n",
       "    </tr>\n",
       "  </thead>\n",
       "  <tbody>\n",
       "    <tr>\n",
       "      <th>0</th>\n",
       "      <td>Andhra Pradesh</td>\n",
       "      <td>Hyderabad (De jure - 2 June 2024) Amaravati (p...</td>\n",
       "      <td>160,205 km2\\t</td>\n",
       "      <td>4,93,78,776</td>\n",
       "      <td>Telugu</td>\n",
       "      <td>Visakhapatnam,Vijayawada,Guntur</td>\n",
       "      <td>13</td>\n",
       "      <td></td>\n",
       "      <td>67.66*</td>\n",
       "      <td>33.49*</td>\n",
       "      <td>992*</td>\n",
       "      <td>1956</td>\n",
       "    </tr>\n",
       "    <tr>\n",
       "      <th>1</th>\n",
       "      <td>Arunachal Pradesh</td>\n",
       "      <td>Itanagar</td>\n",
       "      <td>83,743 km2</td>\n",
       "      <td>1,382,611</td>\n",
       "      <td>English</td>\n",
       "      <td>Itanagar</td>\n",
       "      <td>17</td>\n",
       "      <td>17 /km2</td>\n",
       "      <td>66.95</td>\n",
       "      <td>22.67</td>\n",
       "      <td>920</td>\n",
       "      <td>1987</td>\n",
       "    </tr>\n",
       "    <tr>\n",
       "      <th>2</th>\n",
       "      <td>Assam</td>\n",
       "      <td>Dispur</td>\n",
       "      <td>78,438 km2</td>\n",
       "      <td>31,169,272</td>\n",
       "      <td>Assamese</td>\n",
       "      <td>Guwahati, Silchar, Dibrugarh, Nagaon</td>\n",
       "      <td>33</td>\n",
       "      <td>397 /km2</td>\n",
       "      <td>73.18</td>\n",
       "      <td>14.08</td>\n",
       "      <td>954</td>\n",
       "      <td>1975</td>\n",
       "    </tr>\n",
       "    <tr>\n",
       "      <th>3</th>\n",
       "      <td>Bihar</td>\n",
       "      <td>Patna</td>\n",
       "      <td>94,163 km2</td>\n",
       "      <td>103,804,637</td>\n",
       "      <td>Hindi</td>\n",
       "      <td>Patna, Gaya, Bhagalpur, Muzaffarpur, Biharsharif</td>\n",
       "      <td>38</td>\n",
       "      <td>1,102 /km2</td>\n",
       "      <td>63.82</td>\n",
       "      <td>11.30</td>\n",
       "      <td>916</td>\n",
       "      <td>1935</td>\n",
       "    </tr>\n",
       "    <tr>\n",
       "      <th>4</th>\n",
       "      <td>Chhattisgarh</td>\n",
       "      <td>Raipur</td>\n",
       "      <td>135,191 km2</td>\n",
       "      <td>25,540,196</td>\n",
       "      <td>Chhattisgarhi</td>\n",
       "      <td>Raipur, Bhilai Nagar, Korba, Bilaspur, Durg</td>\n",
       "      <td>27</td>\n",
       "      <td>189 /km2</td>\n",
       "      <td>71.04</td>\n",
       "      <td>23.24</td>\n",
       "      <td>991</td>\n",
       "      <td>2000</td>\n",
       "    </tr>\n",
       "  </tbody>\n",
       "</table>\n",
       "</div>"
      ],
      "text/plain": [
       "               State                                            Capital  \\\n",
       "0     Andhra Pradesh  Hyderabad (De jure - 2 June 2024) Amaravati (p...   \n",
       "1  Arunachal Pradesh                                           Itanagar   \n",
       "2              Assam                                             Dispur   \n",
       "3              Bihar                                              Patna   \n",
       "4       Chhattisgarh                                             Raipur   \n",
       "\n",
       "            Area   Population Official Languages  \\\n",
       "0  160,205 km2\\t  4,93,78,776             Telugu   \n",
       "1    83,743 km2     1,382,611            English   \n",
       "2    78,438 km2    31,169,272           Assamese   \n",
       "3    94,163 km2   103,804,637              Hindi   \n",
       "4   135,191 km2    25,540,196      Chhattisgarhi   \n",
       "\n",
       "                                      LargestCities   \\\n",
       "0                    Visakhapatnam,Vijayawada,Guntur   \n",
       "1                                           Itanagar   \n",
       "2               Guwahati, Silchar, Dibrugarh, Nagaon   \n",
       "3  Patna, Gaya, Bhagalpur, Muzaffarpur, Biharsharif    \n",
       "4       Raipur, Bhilai Nagar, Korba, Bilaspur, Durg    \n",
       "\n",
       "  Districts/Admin divisions Population Density Literacy Rate% Urban Pop.%  \\\n",
       "0                        13                            67.66*      33.49*   \n",
       "1                        17            17 /km2          66.95       22.67   \n",
       "2                        33           397 /km2          73.18       14.08   \n",
       "3                        38         1,102 /km2          63.82       11.30   \n",
       "4                        27           189 /km2          71.04       23.24   \n",
       "\n",
       "  Sex Ratio Estd Year  \n",
       "0      992*      1956  \n",
       "1       920      1987  \n",
       "2       954      1975  \n",
       "3       916      1935  \n",
       "4       991      2000  "
      ]
     },
     "execution_count": 33,
     "metadata": {},
     "output_type": "execute_result"
    }
   ],
   "source": [
    "dataset.head()"
   ]
  },
  {
   "cell_type": "code",
   "execution_count": null,
   "metadata": {},
   "outputs": [],
   "source": []
  }
 ],
 "metadata": {
  "kernelspec": {
   "display_name": "Python 3",
   "language": "python",
   "name": "python3"
  },
  "language_info": {
   "codemirror_mode": {
    "name": "ipython",
    "version": 3
   },
   "file_extension": ".py",
   "mimetype": "text/x-python",
   "name": "python",
   "nbconvert_exporter": "python",
   "pygments_lexer": "ipython3",
   "version": "3.7.3"
  }
 },
 "nbformat": 4,
 "nbformat_minor": 2
}
